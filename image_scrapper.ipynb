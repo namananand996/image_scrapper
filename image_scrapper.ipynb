{
 "cells": [
  {
   "cell_type": "code",
   "execution_count": 1,
   "metadata": {},
   "outputs": [],
   "source": [
    "import requests\n",
    "import bs4\n",
    "import re\n",
    "import urllib"
   ]
  },
  {
   "cell_type": "code",
   "execution_count": 4,
   "metadata": {},
   "outputs": [
    {
     "name": "stdout",
     "output_type": "stream",
     "text": [
      "Enter Your Url : https://www.google.co.in/search?q=flask.ext.script+not+found&safe=off&source=lnms&tbm=isch&sa=X&ved=0ahUKEwjrq6ql_MzhAhWI8XMBHYZtDnoQ_AUIECgD&biw=1536&bih=706\n",
      "0\n",
      "1\n",
      "2\n",
      "3\n",
      "4\n",
      "5\n",
      "6\n",
      "7\n",
      "8\n",
      "9\n",
      "10\n",
      "11\n",
      "12\n",
      "13\n",
      "14\n",
      "15\n",
      "16\n",
      "17\n",
      "18\n",
      "19\n"
     ]
    }
   ],
   "source": [
    "url = input('Enter Your Url : ')\n",
    "res = requests.get(url)\n",
    "soup = bs4.BeautifulSoup(res.text,'lxml')\n",
    "\n",
    "count = 0\n",
    "for img in soup.find_all('img'):\n",
    "    temp = img.get('src')\n",
    "    if temp[:1] == \"/\":\n",
    "        image = \"https:\" + temp\n",
    "    else:\n",
    "        image = temp\n",
    "\n",
    "    print(count)\n",
    "    count = str(count)    \n",
    "        \n",
    "    imageFile = open(count + \".jpeg\",'wb')\n",
    "    imageFile.write(urllib.request.urlopen(image).read())\n",
    "    imageFile.close()\n",
    "    count = int(count)\n",
    "    count = count + 1"
   ]
  },
  {
   "cell_type": "code",
   "execution_count": null,
   "metadata": {},
   "outputs": [],
   "source": []
  }
 ],
 "metadata": {
  "kernelspec": {
   "display_name": "Python 3",
   "language": "python",
   "name": "python3"
  },
  "language_info": {
   "codemirror_mode": {
    "name": "ipython",
    "version": 3
   },
   "file_extension": ".py",
   "mimetype": "text/x-python",
   "name": "python",
   "nbconvert_exporter": "python",
   "pygments_lexer": "ipython3",
   "version": "3.6.5"
  }
 },
 "nbformat": 4,
 "nbformat_minor": 2
}
